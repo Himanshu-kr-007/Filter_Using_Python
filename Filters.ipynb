{
 "cells": [
  {
   "cell_type": "code",
   "execution_count": 1,
   "id": "8c9e796c",
   "metadata": {},
   "outputs": [],
   "source": [
    "import cv2\n",
    "import numpy as np"
   ]
  },
  {
   "cell_type": "markdown",
   "id": "75a78b18",
   "metadata": {},
   "source": [
    "# Orignal VIDEO"
   ]
  },
  {
   "cell_type": "code",
   "execution_count": 2,
   "id": "20b55394",
   "metadata": {},
   "outputs": [],
   "source": [
    "cap = cv2.VideoCapture(1)\n",
    "while True:\n",
    "    ret, photo = cap.read()\n",
    "    cv2.imshow(\"Orignal\", photo)\n",
    "    if cv2.waitKey(100)==13:\n",
    "        cv2.imwrite(\"1 Image.png\", photo)\n",
    "        break\n",
    "cv2.destroyAllWindows()\n",
    "cap.release()"
   ]
  },
  {
   "cell_type": "markdown",
   "id": "ebb6d5c0",
   "metadata": {},
   "source": [
    "# Blur Filter"
   ]
  },
  {
   "cell_type": "code",
   "execution_count": 3,
   "id": "afb902fe",
   "metadata": {},
   "outputs": [],
   "source": [
    "k = np.array([\n",
    "    [ 0.0625, 0.125, 0.0625,\n",
    "      0.125,  0.25, 0.125,\n",
    "      0.0625, 0.125, 0.0625 ]\n",
    "])"
   ]
  },
  {
   "cell_type": "code",
   "execution_count": 4,
   "id": "fefcc79b",
   "metadata": {},
   "outputs": [],
   "source": [
    "cap = cv2.VideoCapture(1)\n",
    "while True:\n",
    "    ret, photo = cap.read()\n",
    "    blur = cv2.medianBlur(photo, ksize=7)    \n",
    "    cv2.imshow(\"Blur Filter\", blur)\n",
    "    if cv2.waitKey(100)==13:\n",
    "        cv2.imwrite(\"2 Blur.png\", blur)\n",
    "        break\n",
    "cv2.destroyAllWindows()\n",
    "cap.release()"
   ]
  },
  {
   "cell_type": "markdown",
   "id": "8883098f",
   "metadata": {},
   "source": [
    "# Blur And Black and white Filter"
   ]
  },
  {
   "cell_type": "code",
   "execution_count": 5,
   "id": "127c64a2",
   "metadata": {},
   "outputs": [],
   "source": [
    "k = np.array([\n",
    "    [ 0.0625, 0.125, 0.0625,\n",
    "      0.125,  0.25, 0.125,\n",
    "      0.0625, 0.125, 0.0625 ]\n",
    "])"
   ]
  },
  {
   "cell_type": "code",
   "execution_count": 6,
   "id": "db517cf5",
   "metadata": {},
   "outputs": [],
   "source": [
    "cap = cv2.VideoCapture(1)\n",
    "while True:\n",
    "    ret, photo = cap.read()\n",
    "    F1 = cv2.filter2D(src=photo, ddepth=-1, kernel=k)\n",
    "    F2 = cv2.cvtColor(F1, cv2.COLOR_BGR2GRAY)\n",
    "    cv2.imshow(\"Blur And Black Filter\", F2)\n",
    "    if cv2.waitKey(100)==13:\n",
    "        cv2.imwrite(\"3 Blur & BW.png\", F2)\n",
    "        break\n",
    "cv2.destroyAllWindows()\n",
    "cap.release()"
   ]
  },
  {
   "cell_type": "markdown",
   "id": "d4ba8b9a",
   "metadata": {},
   "source": [
    "# Bottom Sobel Filter"
   ]
  },
  {
   "cell_type": "code",
   "execution_count": 7,
   "id": "30fe32b7",
   "metadata": {},
   "outputs": [],
   "source": [
    "k = np.array([\n",
    "    [-1, -2,-1,\n",
    "      0,  0, 0,\n",
    "      1,  0, 0 ]\n",
    "])"
   ]
  },
  {
   "cell_type": "code",
   "execution_count": 8,
   "id": "e7a42899",
   "metadata": {},
   "outputs": [],
   "source": [
    "cap = cv2.VideoCapture(1)\n",
    "while True:\n",
    "    ret, photo = cap.read()\n",
    "    F1 = cv2.filter2D(src=photo, ddepth=-1, kernel=k)\n",
    "    cv2.imshow(\"Bottom Sobel Filter\", F1)\n",
    "    if cv2.waitKey(100)==13:\n",
    "        cv2.imwrite(\"4 Bottom Sobel.png\", F1)\n",
    "        break\n",
    "cv2.destroyAllWindows()\n",
    "cap.release()"
   ]
  },
  {
   "cell_type": "markdown",
   "id": "c79bf6db",
   "metadata": {},
   "source": [
    "# Emboss Filter"
   ]
  },
  {
   "cell_type": "code",
   "execution_count": 9,
   "id": "793b6bf2",
   "metadata": {},
   "outputs": [],
   "source": [
    "k = np.array([\n",
    "    [-2, -1, 0,\n",
    "     -1,  1, 1,\n",
    "      0,  1, 2 ]\n",
    "])"
   ]
  },
  {
   "cell_type": "code",
   "execution_count": 10,
   "id": "4380f4ef",
   "metadata": {},
   "outputs": [],
   "source": [
    "cap = cv2.VideoCapture(1)\n",
    "while True:\n",
    "    ret, photo = cap.read()\n",
    "    F1 = cv2.filter2D(src=photo, ddepth=-1, kernel=k)\n",
    "    cv2.imshow(\"Emboss Filter \", F1)\n",
    "    if cv2.waitKey(100)==13:\n",
    "        cv2.imwrite(\"5 Emboss.png\", F1)\n",
    "        break\n",
    "cv2.destroyAllWindows()\n",
    "cap.release()"
   ]
  },
  {
   "cell_type": "markdown",
   "id": "a765bec0",
   "metadata": {},
   "source": [
    "# Outline Filter"
   ]
  },
  {
   "cell_type": "code",
   "execution_count": 11,
   "id": "4c3dad03",
   "metadata": {},
   "outputs": [],
   "source": [
    "k = np.array([\n",
    "    [-1, -1, -1,\n",
    "     -1,  8, -1,\n",
    "      -1,  -1, -1 ]\n",
    "])"
   ]
  },
  {
   "cell_type": "code",
   "execution_count": 12,
   "id": "6e1e09d7",
   "metadata": {},
   "outputs": [],
   "source": [
    "cap = cv2.VideoCapture(1)\n",
    "while True:\n",
    "    ret, photo = cap.read()\n",
    "    F1 = cv2.filter2D(src=photo, ddepth=-1, kernel=k)\n",
    "    cv2.imshow(\"Outline Filter \", F1)\n",
    "    if cv2.waitKey(100)==13:\n",
    "        cv2.imwrite(\"6 Outline.png\", F1)\n",
    "        break\n",
    "cv2.destroyAllWindows()\n",
    "cap.release()"
   ]
  },
  {
   "cell_type": "markdown",
   "id": "95fa8208",
   "metadata": {},
   "source": [
    "# Sharpen Filter"
   ]
  },
  {
   "cell_type": "code",
   "execution_count": 13,
   "id": "a1f1b042",
   "metadata": {},
   "outputs": [],
   "source": [
    "k = np.array([\n",
    "    [0, -1, 0,\n",
    "     -1,  5, -1,\n",
    "      0,  -1, 0 ]\n",
    "])"
   ]
  },
  {
   "cell_type": "code",
   "execution_count": 14,
   "id": "3e5cda64",
   "metadata": {},
   "outputs": [],
   "source": [
    "cap = cv2.VideoCapture(1)\n",
    "while True:\n",
    "    ret, photo = cap.read()\n",
    "    F1 = cv2.filter2D(src=photo, ddepth=-1, kernel=k)\n",
    "    cv2.imshow(\"Sharpen Filter \", F1)\n",
    "    if cv2.waitKey(100)==13:\n",
    "        cv2.imwrite(\"7 Sharpen.png\", F1)\n",
    "        break\n",
    "cv2.destroyAllWindows()\n",
    "cap.release()"
   ]
  }
 ],
 "metadata": {
  "kernelspec": {
   "display_name": "Python 3 (ipykernel)",
   "language": "python",
   "name": "python3"
  },
  "language_info": {
   "codemirror_mode": {
    "name": "ipython",
    "version": 3
   },
   "file_extension": ".py",
   "mimetype": "text/x-python",
   "name": "python",
   "nbconvert_exporter": "python",
   "pygments_lexer": "ipython3",
   "version": "3.9.4"
  }
 },
 "nbformat": 4,
 "nbformat_minor": 5
}
